{
 "cells": [
  {
   "cell_type": "code",
   "execution_count": 1,
   "metadata": {},
   "outputs": [],
   "source": [
    "import cv2\n",
    "import face_recognition\n",
    "import os\n",
    "import numpy as np\n",
    "from datetime import datetime\n",
    "import pickle"
   ]
  },
  {
   "cell_type": "code",
   "execution_count": 2,
   "metadata": {},
   "outputs": [],
   "source": [
    "dataset_path = 'dataset/students/KRS Door automation images'"
   ]
  },
  {
   "cell_type": "code",
   "execution_count": 3,
   "metadata": {},
   "outputs": [],
   "source": [
    "# Function to save encodings to a file\n",
    "def save_encodings(encodeDict, filename):\n",
    "    with open(filename, 'wb') as f:\n",
    "        pickle.dump(encodeDict, f)\n",
    "\n",
    "# Function to load encodings from a file\n",
    "def load_encodings(filename):\n",
    "    with open(filename, 'rb') as f:\n",
    "        return pickle.load(f)\n"
   ]
  },
  {
   "cell_type": "code",
   "execution_count": 4,
   "metadata": {},
   "outputs": [],
   "source": [
    "images = []\n",
    "classNames = []\n",
    "encodeDict = {}"
   ]
  },
  {
   "cell_type": "code",
   "execution_count": 5,
   "metadata": {},
   "outputs": [
    {
     "name": "stdout",
     "output_type": "stream",
     "text": [
      "No face found in the image: dataset/students/KRS Door automation images\\21051128_Deepanjan\\photo_12_2024-03-09_11-46-05.jpg\n",
      "No face found in the image: dataset/students/KRS Door automation images\\21051128_Deepanjan\\photo_13_2024-03-09_11-46-05.jpg\n",
      "No face found in the image: dataset/students/KRS Door automation images\\21052859_RickChaudhuri\\IMG_1377.jpg\n",
      "No face found in the image: dataset/students/KRS Door automation images\\21052859_RickChaudhuri\\IMG_1379.jpg\n",
      "No face found in the image: dataset/students/KRS Door automation images\\22052757_shayon chakraborty\\IMG_20240308_141121.jpg\n",
      "No face found in the image: dataset/students/KRS Door automation images\\22052914_Prabhakar Singh\\IMG20240308203234(1).jpg\n",
      "No face found in the image: dataset/students/KRS Door automation images\\22052914_Prabhakar Singh\\IMG20240308203234.jpg\n",
      "No face found in the image: dataset/students/KRS Door automation images\\2205354_Akangkshya Goswami\\20240308_161956_308.jpg\n",
      "No face found in the image: dataset/students/KRS Door automation images\\2206279- Prangon Dhar\\IMG_20240308_152703.jpg\n",
      "No face found in the image: dataset/students/KRS Door automation images\\2304150_Rifa Sanzida Zaman\\WhatsApp Image 2024-03-08 at 11.19.06_5539eb4f.jpg\n",
      "No face found in the image: dataset/students/KRS Door automation images\\2305337_Shubham Agarwal\\20240308_114128.jpg\n"
     ]
    }
   ],
   "source": [
    "# Check if saved encodings file exists, if not load the encodings from file\n",
    "if os.path.exists('encodings.pickle'):\n",
    "    encodeDict = load_encodings('encodings.pickle')\n",
    "else:\n",
    "    for person_dir in os.listdir(dataset_path):\n",
    "        person_path = os.path.join(dataset_path, person_dir)\n",
    "        if os.path.isdir(person_path):\n",
    "            # Get the list of image files in the subdirectory\n",
    "            image_files = [f for f in os.listdir(person_path) if f.endswith(('.jpg', '.jpeg', '.png'))]\n",
    "            for img_file in image_files:\n",
    "                img_path = os.path.join(person_path, img_file)\n",
    "                curImg = cv2.imread(img_path)\n",
    "                if curImg is not None:\n",
    "                    images.append(curImg)\n",
    "                    # Append the class name (person's name) to the classNames list\n",
    "                    classNames.append(person_dir)\n",
    "\n",
    "                    # Convert image to RGB (face_recognition library requires RGB format)\n",
    "                    rgb_img = cv2.cvtColor(curImg, cv2.COLOR_BGR2RGB)\n",
    "                    # Find face encodings\n",
    "                    face_encodings = face_recognition.face_encodings(rgb_img)\n",
    "                    if len(face_encodings) > 0:\n",
    "                        # If the person already exists in the dictionary, append the encoding\n",
    "                        if person_dir in encodeDict:\n",
    "                            encodeDict[person_dir].append(face_encodings[0])\n",
    "                        # Otherwise, create a new entry in the dictionary\n",
    "                        else:\n",
    "                            encodeDict[person_dir] = [face_encodings[0]]\n",
    "                    else:\n",
    "                        print(f\"No face found in the image: {img_path}\")\n",
    "                else:\n",
    "                    print(f\"Unable to read image: {img_path}\")\n",
    "\n",
    "    # Save encodings to a file\n",
    "    save_encodings(encodeDict, 'encodings.pickle')"
   ]
  },
  {
   "cell_type": "code",
   "execution_count": 6,
   "metadata": {},
   "outputs": [],
   "source": [
    "# encodeDict"
   ]
  },
  {
   "cell_type": "code",
   "execution_count": 7,
   "metadata": {},
   "outputs": [
    {
     "ename": "error",
     "evalue": "OpenCV(4.9.0) D:\\a\\opencv-python\\opencv-python\\opencv\\modules\\imgproc\\src\\resize.cpp:4152: error: (-215:Assertion failed) !ssize.empty() in function 'cv::resize'\n",
     "output_type": "error",
     "traceback": [
      "\u001b[1;31m---------------------------------------------------------------------------\u001b[0m",
      "\u001b[1;31merror\u001b[0m                                     Traceback (most recent call last)",
      "Cell \u001b[1;32mIn[7], line 9\u001b[0m\n\u001b[0;32m      7\u001b[0m \u001b[38;5;28;01mwhile\u001b[39;00m \u001b[38;5;28;01mTrue\u001b[39;00m:\n\u001b[0;32m      8\u001b[0m     success, img \u001b[38;5;241m=\u001b[39m cap\u001b[38;5;241m.\u001b[39mread()\n\u001b[1;32m----> 9\u001b[0m     imgS \u001b[38;5;241m=\u001b[39m \u001b[43mcv2\u001b[49m\u001b[38;5;241;43m.\u001b[39;49m\u001b[43mresize\u001b[49m\u001b[43m(\u001b[49m\u001b[43mimg\u001b[49m\u001b[43m,\u001b[49m\u001b[43m \u001b[49m\u001b[43m(\u001b[49m\u001b[38;5;241;43m0\u001b[39;49m\u001b[43m,\u001b[49m\u001b[38;5;241;43m0\u001b[39;49m\u001b[43m)\u001b[49m\u001b[43m,\u001b[49m\u001b[43m \u001b[49m\u001b[38;5;28;43;01mNone\u001b[39;49;00m\u001b[43m,\u001b[49m\u001b[43m \u001b[49m\u001b[38;5;241;43m0.25\u001b[39;49m\u001b[43m,\u001b[49m\u001b[38;5;241;43m0.25\u001b[39;49m\u001b[43m)\u001b[49m\n\u001b[0;32m     10\u001b[0m     imgS \u001b[38;5;241m=\u001b[39m cv2\u001b[38;5;241m.\u001b[39mcvtColor(imgS, cv2\u001b[38;5;241m.\u001b[39mCOLOR_BGR2RGB)\n\u001b[0;32m     11\u001b[0m     faces_in_frame \u001b[38;5;241m=\u001b[39m face_recognition\u001b[38;5;241m.\u001b[39mface_locations(imgS)\n",
      "\u001b[1;31merror\u001b[0m: OpenCV(4.9.0) D:\\a\\opencv-python\\opencv-python\\opencv\\modules\\imgproc\\src\\resize.cpp:4152: error: (-215:Assertion failed) !ssize.empty() in function 'cv::resize'\n"
     ]
    },
    {
     "ename": "",
     "evalue": "",
     "output_type": "error",
     "traceback": [
      "\u001b[1;31mThe Kernel crashed while executing code in the current cell or a previous cell. \n",
      "\u001b[1;31mPlease review the code in the cell(s) to identify a possible cause of the failure. \n",
      "\u001b[1;31mClick <a href='https://aka.ms/vscodeJupyterKernelCrash'>here</a> for more info. \n",
      "\u001b[1;31mView Jupyter <a href='command:jupyter.viewOutput'>log</a> for further details."
     ]
    }
   ],
   "source": [
    "# Set threshold for face matching\n",
    "face_match_threshold = 0.4\n",
    "\n",
    "# Capture images from webcam\n",
    "cap = cv2.VideoCapture(0)\n",
    "\n",
    "while True:\n",
    "    success, img = cap.read()\n",
    "    imgS = cv2.resize(img, (0,0), None, 0.25,0.25)\n",
    "    imgS = cv2.cvtColor(imgS, cv2.COLOR_BGR2RGB)\n",
    "    faces_in_frame = face_recognition.face_locations(imgS)\n",
    "    encoded_faces = face_recognition.face_encodings(imgS, faces_in_frame)\n",
    "    for encode_face, faceloc in zip(encoded_faces, faces_in_frame):\n",
    "        matchIndex = None\n",
    "        min_distance = float('inf')\n",
    "        for className, encoding_list in encodeDict.items():\n",
    "            for encoding in encoding_list:\n",
    "                distance = face_recognition.face_distance([encoding], encode_face)\n",
    "                if distance < min_distance:\n",
    "                    min_distance = distance\n",
    "                    matchIndex = className\n",
    "\n",
    "        if matchIndex is not None and min_distance <= face_match_threshold:\n",
    "            name = matchIndex.upper().lower()\n",
    "        else:\n",
    "            name = \"unknown\"\n",
    "\n",
    "        y1, x2, y2, x1 = faceloc\n",
    "        y1, x2, y2, x1 = y1*4, x2*4, y2*4, x1*4\n",
    "        cv2.rectangle(img, (x1,y1), (x2,y2), (0,255,0), 2)\n",
    "        cv2.rectangle(img, (x1,y2-35), (x2,y2), (0,255,0), cv2.FILLED)\n",
    "        cv2.putText(img, name, (x1+6,y2-5), cv2.FONT_HERSHEY_COMPLEX, 1, (255,255,255), 2)\n",
    "\n",
    "    cv2.imshow('webcam', img)\n",
    "    if cv2.waitKey(1) & 0xFF == ord('q'):\n",
    "        break"
   ]
  },
  {
   "cell_type": "code",
   "execution_count": null,
   "metadata": {},
   "outputs": [],
   "source": [
    "# Release the webcam\n",
    "cap.release()\n",
    "cv2.destroyAllWindows()"
   ]
  },
  {
   "cell_type": "code",
   "execution_count": null,
   "metadata": {},
   "outputs": [
    {
     "name": "stdout",
     "output_type": "stream",
     "text": [
      "Note: you may need to restart the kernel to use updated packages.\n"
     ]
    }
   ],
   "source": [
    "# %pip freeze > requirements.txt"
   ]
  },
  {
   "cell_type": "code",
   "execution_count": null,
   "metadata": {},
   "outputs": [],
   "source": [
    "# # Always retrain the encodings\n",
    "# mylist = os.listdir(dataset_path)\n",
    "# for cl in mylist:\n",
    "#     if cl.endswith(('.jpg', '.jpeg', '.png')):\n",
    "#         img_path = os.path.join(dataset_path, cl)\n",
    "#         curImg = cv2.imread(img_path)\n",
    "#         if curImg is not None:\n",
    "#             images.append(curImg)\n",
    "#             className = os.path.splitext(cl)[0]\n",
    "#             classNames.append(className)\n",
    "\n",
    "#             rgb_img = cv2.cvtColor(curImg, cv2.COLOR_BGR2RGB)\n",
    "#             face_encodings = face_recognition.face_encodings(rgb_img)\n",
    "#             if len(face_encodings) > 0:\n",
    "#                 if className in encodeDict:\n",
    "#                     encodeDict[className].append(face_encodings[0])\n",
    "#                 else:\n",
    "#                     encodeDict[className] = [face_encodings[0]]\n",
    "#             else:\n",
    "#                 print(f\"No face found in the image: {cl}\")\n",
    "\n",
    "# # Save encodings to a file\n",
    "# save_encodings(encodeDict, 'encodings.pickle')"
   ]
  },
  {
   "cell_type": "code",
   "execution_count": null,
   "metadata": {},
   "outputs": [],
   "source": [
    "# # Function to encode faces in the images\n",
    "# def findEncodings(images):\n",
    "#     encodeList = []\n",
    "#     for img in images:\n",
    "#         # Convert image to RGB (face_recognition library requires RGB format)\n",
    "#         img = cv2.cvtColor(img, cv2.COLOR_BGR2RGB)\n",
    "#         # Find face encodings\n",
    "#         face_encodings = face_recognition.face_encodings(img)\n",
    "#         if len(face_encodings) > 0:\n",
    "#             encodeList.append(face_encodings[0])\n",
    "#         else:\n",
    "#             print(\"No face found in the image\")\n",
    "#     return encodeList"
   ]
  },
  {
   "cell_type": "code",
   "execution_count": null,
   "metadata": {},
   "outputs": [],
   "source": [
    "# # Encode faces in the loaded images\n",
    "# encoded_face_train = findEncodings(images)"
   ]
  },
  {
   "cell_type": "code",
   "execution_count": null,
   "metadata": {},
   "outputs": [],
   "source": [
    "# def markAttendance(name):\n",
    "#     with open('Attendance.csv','r+') as f:\n",
    "#         myDataList = f.readlines()\n",
    "#         nameList = []\n",
    "#         for line in myDataList:\n",
    "#             entry = line.split(',')\n",
    "#             nameList.append(entry[0])\n",
    "#         if name not in nameList:\n",
    "#             now = datetime.now()\n",
    "#             time = now.strftime('%I:%M:%S:%p')\n",
    "#             date = now.strftime('%d-%B-%Y')\n",
    "#             f.writelines(f'n{name}, {time}, {date}')"
   ]
  },
  {
   "cell_type": "code",
   "execution_count": null,
   "metadata": {},
   "outputs": [],
   "source": [
    "# train_elon_encodings = face_recognition.face_encodings(imgelon)[0]"
   ]
  },
  {
   "cell_type": "code",
   "execution_count": null,
   "metadata": {},
   "outputs": [],
   "source": [
    "# imgelon =face_recognition.load_image_file('dataset\\\\genuine\\\\WIN_20240307_21_52_24_Pro.jpg')\n",
    "# imgelon = cv2.cvtColor(imgelon,cv2.COLOR_BGR2RGB)\n",
    "# #----------Finding face Location for drawing bounding boxes-------\n",
    "# face = face_recognition.face_locations(imgelon_rgb)[0]\n",
    "# copy = imgelon.copy()\n",
    "# #-------------------Drawing the Rectangle-------------------------\n",
    "# cv2.rectangle(copy, (face[3], face[0]),(face[1], face[2]), (255,0,255), 2)\n",
    "# cv2.imshow('copy', copy)\n",
    "# cv2.imshow('elon',imgelon)\n",
    "# cv2.waitKey(0)"
   ]
  },
  {
   "cell_type": "code",
   "execution_count": null,
   "metadata": {},
   "outputs": [],
   "source": [
    "# imgelon_bgr = face_recognition.load_image_file('dataset\\\\genuine\\\\WIN_20240307_21_52_24_Pro.jpg')\n",
    "# imgelon_rgb = cv2.cvtColor(imgelon_bgr,cv2.COLOR_BGR2RGB)\n",
    "# cv2.imshow('bgr', imgelon_bgr)\n",
    "# cv2.imshow('rgb', imgelon_rgb)\n",
    "# cv2.waitKey(0)"
   ]
  },
  {
   "cell_type": "code",
   "execution_count": null,
   "metadata": {},
   "outputs": [],
   "source": [
    "# # lets test an image\n",
    "# test = face_recognition.load_image_file('dataset\\\\genuine\\\\aman gupta.png')\n",
    "# test = cv2.cvtColor(test, cv2.COLOR_BGR2RGB)\n",
    "# test_encode = face_recognition.face_encodings(test)[0]\n",
    "# print(face_recognition.compare_faces([train_elon_encodings],test_encode))"
   ]
  }
 ],
 "metadata": {
  "kernelspec": {
   "display_name": "attendance",
   "language": "python",
   "name": "python3"
  },
  "language_info": {
   "codemirror_mode": {
    "name": "ipython",
    "version": 3
   },
   "file_extension": ".py",
   "mimetype": "text/x-python",
   "name": "python",
   "nbconvert_exporter": "python",
   "pygments_lexer": "ipython3",
   "version": "3.12.2"
  }
 },
 "nbformat": 4,
 "nbformat_minor": 2
}
