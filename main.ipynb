{
 "cells": [
  {
   "cell_type": "code",
   "execution_count": 1,
   "metadata": {},
   "outputs": [],
   "source": [
    "import cv2\n",
    "import numpy as np\n",
    "import face_recognition"
   ]
  },
  {
   "cell_type": "code",
   "execution_count": 2,
   "metadata": {},
   "outputs": [],
   "source": [
    "# imgelon_bgr = face_recognition.load_image_file('dataset\\\\genuine\\\\WIN_20240307_21_52_24_Pro.jpg')\n",
    "# imgelon_rgb = cv2.cvtColor(imgelon_bgr,cv2.COLOR_BGR2RGB)\n",
    "# cv2.imshow('bgr', imgelon_bgr)\n",
    "# cv2.imshow('rgb', imgelon_rgb)\n",
    "# cv2.waitKey(0)"
   ]
  },
  {
   "cell_type": "code",
   "execution_count": 3,
   "metadata": {},
   "outputs": [],
   "source": [
    "# imgelon =face_recognition.load_image_file('dataset\\\\genuine\\\\WIN_20240307_21_52_24_Pro.jpg')\n",
    "# imgelon = cv2.cvtColor(imgelon,cv2.COLOR_BGR2RGB)\n",
    "# #----------Finding face Location for drawing bounding boxes-------\n",
    "# face = face_recognition.face_locations(imgelon_rgb)[0]\n",
    "# copy = imgelon.copy()\n",
    "# #-------------------Drawing the Rectangle-------------------------\n",
    "# cv2.rectangle(copy, (face[3], face[0]),(face[1], face[2]), (255,0,255), 2)\n",
    "# cv2.imshow('copy', copy)\n",
    "# cv2.imshow('elon',imgelon)\n",
    "# cv2.waitKey(0)"
   ]
  },
  {
   "cell_type": "code",
   "execution_count": 4,
   "metadata": {},
   "outputs": [],
   "source": [
    "# train_elon_encodings = face_recognition.face_encodings(imgelon)[0]"
   ]
  },
  {
   "cell_type": "code",
   "execution_count": 5,
   "metadata": {},
   "outputs": [],
   "source": [
    "# # lets test an image\n",
    "# test = face_recognition.load_image_file('dataset\\\\genuine\\\\aman gupta.png')\n",
    "# test = cv2.cvtColor(test, cv2.COLOR_BGR2RGB)\n",
    "# test_encode = face_recognition.face_encodings(test)[0]\n",
    "# print(face_recognition.compare_faces([train_elon_encodings],test_encode))"
   ]
  },
  {
   "cell_type": "code",
   "execution_count": 6,
   "metadata": {},
   "outputs": [],
   "source": [
    "import cv2\n",
    "import face_recognition\n",
    "import os\n",
    "import numpy as np\n",
    "from datetime import datetime\n",
    "import pickle"
   ]
  },
  {
   "cell_type": "code",
   "execution_count": 7,
   "metadata": {},
   "outputs": [],
   "source": [
    "dataset_path = 'dataset/students'"
   ]
  },
  {
   "cell_type": "code",
   "execution_count": 8,
   "metadata": {},
   "outputs": [],
   "source": [
    "images = []\n",
    "classNames = []\n",
    "# Dictionary to store encodings of each person\n",
    "encodeDict = {}\n",
    "mylist = os.listdir(dataset_path)\n",
    "for cl in mylist:\n",
    "    # Read the image\n",
    "    curImg = cv2.imread(os.path.join(dataset_path, cl))\n",
    "    if curImg is not None:\n",
    "        # Append the image to the list\n",
    "        images.append(curImg)\n",
    "        # Get the class name (person's name) from the file name\n",
    "        className = os.path.splitext(cl)[0]\n",
    "        classNames.append(className)\n",
    "        \n",
    "        # Convert image to RGB (face_recognition library requires RGB format)\n",
    "        rgb_img = cv2.cvtColor(curImg, cv2.COLOR_BGR2RGB)\n",
    "        # Find face encodings\n",
    "        face_encodings = face_recognition.face_encodings(rgb_img)\n",
    "        if len(face_encodings) > 0:\n",
    "            # If the person already exists in the dictionary, append the encoding\n",
    "            if className in encodeDict:\n",
    "                encodeDict[className].append(face_encodings[0])\n",
    "            # Otherwise, create a new entry in the dictionary\n",
    "            else:\n",
    "                encodeDict[className] = [face_encodings[0]]\n",
    "        else:\n",
    "            print(f\"No face found in the image: {cl}\")\n",
    "\n"
   ]
  },
  {
   "cell_type": "code",
   "execution_count": 9,
   "metadata": {},
   "outputs": [],
   "source": [
    "# Loop through each subdirectory (person) in the dataset directory\n",
    "for person_dir in os.listdir(dataset_path):\n",
    "    person_path = os.path.join(dataset_path, person_dir)\n",
    "    \n",
    "    # Check if it's a directory\n",
    "    if os.path.isdir(person_path):\n",
    "        # Get the list of image files in the subdirectory\n",
    "        image_files = [f for f in os.listdir(person_path) if f.endswith(('.jpg', '.jpeg', '.png'))]\n",
    "        \n",
    "        # Loop through each image file\n",
    "        for img_file in image_files:\n",
    "            img_path = os.path.join(person_path, img_file)\n",
    "            # Read the image\n",
    "            curImg = cv2.imread(img_path)\n",
    "            if curImg is not None:\n",
    "                # Append the image to the list\n",
    "                images.append(curImg)\n",
    "                # Append the class name (person's name) to the classNames list\n",
    "                classNames.append(person_dir)\n",
    "                \n",
    "                # Convert image to RGB (face_recognition library requires RGB format)\n",
    "                rgb_img = cv2.cvtColor(curImg, cv2.COLOR_BGR2RGB)\n",
    "                # Find face encodings\n",
    "                face_encodings = face_recognition.face_encodings(rgb_img)\n",
    "                if len(face_encodings) > 0:\n",
    "                    # If the person already exists in the dictionary, append the encoding\n",
    "                    if person_dir in encodeDict:\n",
    "                        encodeDict[person_dir].append(face_encodings[0])\n",
    "                    # Otherwise, create a new entry in the dictionary\n",
    "                    else:\n",
    "                        encodeDict[person_dir] = [face_encodings[0]]\n",
    "                else:\n",
    "                    print(f\"No face found in the image: {img_path}\")\n",
    "            else:\n",
    "                print(f\"Unable to read image: {img_path}\")"
   ]
  },
  {
   "cell_type": "code",
   "execution_count": 10,
   "metadata": {},
   "outputs": [],
   "source": [
    "# # Function to encode faces in the images\n",
    "# def findEncodings(images):\n",
    "#     encodeList = []\n",
    "#     for img in images:\n",
    "#         # Convert image to RGB (face_recognition library requires RGB format)\n",
    "#         img = cv2.cvtColor(img, cv2.COLOR_BGR2RGB)\n",
    "#         # Find face encodings\n",
    "#         face_encodings = face_recognition.face_encodings(img)\n",
    "#         if len(face_encodings) > 0:\n",
    "#             encodeList.append(face_encodings[0])\n",
    "#         else:\n",
    "#             print(\"No face found in the image\")\n",
    "#     return encodeList"
   ]
  },
  {
   "cell_type": "code",
   "execution_count": 11,
   "metadata": {},
   "outputs": [],
   "source": [
    "# # Encode faces in the loaded images\n",
    "# encoded_face_train = findEncodings(images)"
   ]
  },
  {
   "cell_type": "code",
   "execution_count": 12,
   "metadata": {},
   "outputs": [],
   "source": [
    "# def markAttendance(name):\n",
    "#     with open('Attendance.csv','r+') as f:\n",
    "#         myDataList = f.readlines()\n",
    "#         nameList = []\n",
    "#         for line in myDataList:\n",
    "#             entry = line.split(',')\n",
    "#             nameList.append(entry[0])\n",
    "#         if name not in nameList:\n",
    "#             now = datetime.now()\n",
    "#             time = now.strftime('%I:%M:%S:%p')\n",
    "#             date = now.strftime('%d-%B-%Y')\n",
    "#             f.writelines(f'n{name}, {time}, {date}')"
   ]
  },
  {
   "cell_type": "code",
   "execution_count": 13,
   "metadata": {},
   "outputs": [],
   "source": [
    "# Set threshold for face matching\n",
    "face_match_threshold = 0.4\n",
    "\n",
    "# Capture images from webcam\n",
    "cap = cv2.VideoCapture(0)\n",
    "\n",
    "while True:\n",
    "    success, img = cap.read()\n",
    "    imgS = cv2.resize(img, (0,0), None, 0.25,0.25)\n",
    "    imgS = cv2.cvtColor(imgS, cv2.COLOR_BGR2RGB)\n",
    "    faces_in_frame = face_recognition.face_locations(imgS)\n",
    "    encoded_faces = face_recognition.face_encodings(imgS, faces_in_frame)\n",
    "    for encode_face, faceloc in zip(encoded_faces, faces_in_frame):\n",
    "        # Initialize matchIndex and min_distance\n",
    "        matchIndex = None\n",
    "        min_distance = float('inf')\n",
    "        \n",
    "        # Compare the face encoding with the stored encodings\n",
    "        for className, encoding_list in encodeDict.items():\n",
    "            for encoding in encoding_list:\n",
    "                distance = face_recognition.face_distance([encoding], encode_face)\n",
    "                if distance < min_distance:\n",
    "                    min_distance = distance\n",
    "                    matchIndex = className\n",
    "        \n",
    "        if matchIndex is not None and min_distance <= face_match_threshold:\n",
    "            name = matchIndex.upper().lower()\n",
    "        else:\n",
    "            name = \"unknown\"\n",
    "        \n",
    "        y1, x2, y2, x1 = faceloc\n",
    "        # since we scaled down by 4 times\n",
    "        y1, x2, y2, x1 = y1*4, x2*4, y2*4, x1*4\n",
    "        cv2.rectangle(img, (x1,y1), (x2,y2), (0,255,0), 2)\n",
    "        cv2.rectangle(img, (x1,y2-35), (x2,y2), (0,255,0), cv2.FILLED)\n",
    "        cv2.putText(img, name, (x1+6,y2-5), cv2.FONT_HERSHEY_COMPLEX, 1, (255,255,255), 2)\n",
    "        \n",
    "    cv2.imshow('webcam', img)\n",
    "    if cv2.waitKey(1) & 0xFF == ord('q'):\n",
    "        break"
   ]
  },
  {
   "cell_type": "code",
   "execution_count": null,
   "metadata": {},
   "outputs": [],
   "source": [
    "# Release the webcam\n",
    "cap.release()\n",
    "cv2.destroyAllWindows()"
   ]
  }
 ],
 "metadata": {
  "kernelspec": {
   "display_name": "attendance",
   "language": "python",
   "name": "python3"
  },
  "language_info": {
   "codemirror_mode": {
    "name": "ipython",
    "version": 3
   },
   "file_extension": ".py",
   "mimetype": "text/x-python",
   "name": "python",
   "nbconvert_exporter": "python",
   "pygments_lexer": "ipython3",
   "version": "3.12.2"
  }
 },
 "nbformat": 4,
 "nbformat_minor": 2
}
